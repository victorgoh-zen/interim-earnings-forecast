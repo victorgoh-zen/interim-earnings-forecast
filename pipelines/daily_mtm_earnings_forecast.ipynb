{
 "cells": [
  {
   "cell_type": "code",
   "execution_count": 0,
   "metadata": {
    "application/vnd.databricks.v1+cell": {
     "cellMetadata": {
      "byteLimit": 2048000,
      "rowLimit": 10000
     },
     "inputWidgets": {},
     "nuid": "e3278ba0-8406-4d05-9ca7-f79be136c437",
     "showTitle": false,
     "tableResultSettingsMap": {},
     "title": ""
    }
   },
   "outputs": [],
   "source": [
    "# Update retail rate calendar and load and gen profiles on select days\n",
    "UPDATE_CALENDAR_RATES_DAYS = [0]\n",
    "UPDATE_PROFILES_DAYS = [0]\n",
    "MODEL_ID = \"20250617\""
   ]
  },
  {
   "cell_type": "code",
   "execution_count": 0,
   "metadata": {
    "application/vnd.databricks.v1+cell": {
     "cellMetadata": {
      "byteLimit": 2048000,
      "rowLimit": 10000
     },
     "inputWidgets": {},
     "nuid": "fba76af9-08ea-42ba-ad07-1edf7e664a9f",
     "showTitle": false,
     "tableResultSettingsMap": {},
     "title": ""
    }
   },
   "outputs": [],
   "source": [
    "import time\n",
    "from datetime import date\n",
    "from src import mtm, earnings\n",
    "\n",
    "day_today = date.today().weekday()"
   ]
  },
  {
   "cell_type": "code",
   "execution_count": 0,
   "metadata": {
    "application/vnd.databricks.v1+cell": {
     "cellMetadata": {},
     "inputWidgets": {},
     "nuid": "60e7f221-ac0d-4a3b-bd03-8d145b860db2",
     "showTitle": false,
     "tableResultSettingsMap": {},
     "title": ""
    }
   },
   "outputs": [],
   "source": [
    "start = time.time()\n",
    "earnings.update_deal_settlement_details_table()\n",
    "print(f\"update_deal_settlement_details_table: {time.time() - start:.2f}s\")\n",
    "\n",
    "if day_today in UPDATE_PROFILES_DAYS:\n",
    "    start = time.time()\n",
    "    earnings.update_price_model_deal_profiles()\n",
    "    print(f\"update_price_model_deal_profiles: {time.time() - start:.2f}s\")\n",
    "\n",
    "if day_today in UPDATE_CALENDAR_RATES_DAYS:\n",
    "    start = time.time()\n",
    "    earnings.update_retail_rate_calendar_table()\n",
    "    print(f\"update_retail_rate_calendar_table: {time.time() - start:.2f}s\")\n",
    "\n",
    "start = time.time()\n",
    "mtm.generate_scenario_prices(MODEL_ID)\n",
    "print(f\"generate_scenario_prices: {time.time() - start:.2f}s\")\n",
    "\n",
    "start = time.time()\n",
    "mtm.calculate_earnings_forecast()\n",
    "print(f\"calculate_earnings_forecast: {time.time() - start:.2f}s\")"
   ]
  }
 ],
 "metadata": {
  "application/vnd.databricks.v1+notebook": {
   "computePreferences": null,
   "dashboards": [],
   "environmentMetadata": {
    "base_environment": "",
    "environment_version": "2"
   },
   "inputWidgetPreferences": null,
   "language": "python",
   "notebookMetadata": {
    "pythonIndentUnit": 4
   },
   "notebookName": "daily_mtm_earnings_forecast",
   "widgets": {}
  },
  "language_info": {
   "name": "python"
  }
 },
 "nbformat": 4,
 "nbformat_minor": 0
}
