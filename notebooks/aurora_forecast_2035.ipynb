{
 "cells": [
  {
   "cell_type": "code",
   "execution_count": 1,
   "id": "31e56b96",
   "metadata": {},
   "outputs": [],
   "source": [
    "from databricks.sdk import WorkspaceClient\n",
    "w = WorkspaceClient()\n",
    "\n",
    "w.dbutils.library.restartPython()"
   ]
  },
  {
   "cell_type": "code",
   "execution_count": 2,
   "id": "c46df106",
   "metadata": {},
   "outputs": [],
   "source": [
    "from databricks.connect import DatabricksSession\n",
    "from pyspark.sql import SparkSession\n",
    "from pyspark.sql import functions as F\n",
    "from pyspark.sql.window import Window as W\n",
    "from datetime import datetime, date\n",
    "import pandas as pd\n",
    "import polars as pl\n",
    "\n",
    "spark = DatabricksSession.builder.getOrCreate()\n",
    "\n",
    "ppa_details_df = pd.read_csv(\"utils/ppa_details.csv\")\n",
    "ppa_details = spark.createDataFrame(ppa_details_df)"
   ]
  },
  {
   "cell_type": "code",
   "execution_count": 3,
   "id": "2994fd9d",
   "metadata": {},
   "outputs": [],
   "source": [
    "from utils.extract import extract_deal_info\n",
    "from utils.transform import clean_and_aggregate_earnings\n",
    "\n",
    "start_date = \"2025-01-01\"\n",
    "end_date = \"2030-06-30\"\n",
    "\n",
    "sim_complete_deal_info = extract_deal_info()"
   ]
  },
  {
   "cell_type": "code",
   "execution_count": 4,
   "id": "0edeece6",
   "metadata": {},
   "outputs": [],
   "source": [
    "aurora_df = spark.table(\"exploration.default.earnings_aurora_scenarios\")\n",
    "aurora_earnings = clean_and_aggregate_earnings(\n",
    "    df=aurora_df,\n",
    "    deal_info_df=sim_complete_deal_info,\n",
    "    curve_name=\"aurora\",\n",
    "    end_date=end_date,\n",
    "    is_aurora=True,\n",
    "    agg_by_month=True\n",
    ")\n",
    "\n",
    "combined_earnings = aurora_earnings"
   ]
  },
  {
   "cell_type": "code",
   "execution_count": 6,
   "id": "002c54df",
   "metadata": {},
   "outputs": [],
   "source": [
    "combined_earnings_df = pl.from_pandas(combined_earnings.toPandas())"
   ]
  },
  {
   "cell_type": "code",
   "execution_count": null,
   "id": "ade370db",
   "metadata": {},
   "outputs": [],
   "source": [
    "(\n",
    "    combined_earnings_df.filter(\n",
    "        pl.col(\"total_earnings\").is_not_null() & (pl.col(\"year\") >= 2025)\n",
    "    )\n",
    "    .filter(\n",
    "        pl.col(\"curve\") == \"Central\"\n",
    "    )\n",
    "    .with_columns(\n",
    "        pl.when(pl.col(\"buy_sell\") == \"Buy\")\n",
    "        .then(pl.col(\"total_income\"))\n",
    "        .otherwise(-pl.col(\"total_cost\"))\n",
    "        .alias(\"floating_earnings\"),\n",
    "        pl.when(pl.col(\"buy_sell\") == \"Buy\")\n",
    "        .then(-pl.col(\"total_cost\"))\n",
    "        .otherwise(pl.col(\"total_income\"))\n",
    "        .alias(\"fixed_earnings\"),\n",
    "        pl.when(pl.col(\"deal_id\") == 888_888)\n",
    "        .then(pl.lit(\"Hypothetical\"))\n",
    "        .otherwise(pl.col(\"status\"))\n",
    "        .alias(\"status\"),\n",
    "    )\n",
    "    .sort(\n",
    "        [\"year\", \"month\", \"group\", \"regionid\", \"deal_id\"]\n",
    "    )\n",
    "    .select(\n",
    "        pl.col(\"curve\").alias(\"Curve Name\"),\n",
    "        pl.col(\"year\").alias(\"Year\"),\n",
    "        pl.col(\"month\").alias(\"Month\"),\n",
    "        pl.col(\"deal_id\").alias(\"Deal ID\"),\n",
    "        pl.col(\"deal_name\").alias(\"Deal Name\"),\n",
    "        pl.col(\"product_name\").alias(\"Product Name\"),\n",
    "        pl.col(\"instrument\").alias(\"Instrument\"),\n",
    "        pl.when(pl.col(\"status\").is_in([\"Approved\", \"Confirmed\"]))\n",
    "        .then(pl.lit(\"Contracted\"))\n",
    "        .otherwise(pl.lit(\"Hypothetical\"))\n",
    "        .alias(\"Status\"),\n",
    "        pl.col(\"buy_sell\").alias(\"Buy/Sell\"),\n",
    "        pl.col(\"strategy\").alias(\"Strategy\"),\n",
    "        pl.col(\"regionid\").alias(\"Region ID\"),\n",
    "        pl.col(\"group\").alias(\"Group\"),\n",
    "        pl.col(\"volume_mwh\").alias(\"Volume (MWh)\"),\n",
    "        pl.col(\"fixed_earnings\").alias(\"Fixed Earnings\"),\n",
    "        (pl.col(\"fixed_earnings\") / pl.col(\"volume_mwh\")).alias(\"VW Fixed Rate\"),\n",
    "        pl.col(\"floating_earnings\").alias(\"Floating Earnings\"),\n",
    "        (pl.col(\"floating_earnings\") / pl.col(\"volume_mwh\")).alias(\"VW Floating Rate\"),\n",
    "        pl.col(\"twp\").alias(\"TW Floating Price\"),\n",
    "        pl.col(\"total_earnings\").alias(\"Total Earnings\"),\n",
    "    )\n",
    "    .write_csv(\"aurora_central.csv\")\n",
    ")"
   ]
  }
 ],
 "metadata": {
  "kernelspec": {
   "display_name": ".venv",
   "language": "python",
   "name": "python3"
  },
  "language_info": {
   "codemirror_mode": {
    "name": "ipython",
    "version": 3
   },
   "file_extension": ".py",
   "mimetype": "text/x-python",
   "name": "python",
   "nbconvert_exporter": "python",
   "pygments_lexer": "ipython3",
   "version": "3.11.11"
  }
 },
 "nbformat": 4,
 "nbformat_minor": 5
}
