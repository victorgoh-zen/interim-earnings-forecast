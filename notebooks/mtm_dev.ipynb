{
 "cells": [
  {
   "cell_type": "code",
   "execution_count": 0,
   "metadata": {
    "application/vnd.databricks.v1+cell": {
     "cellMetadata": {
      "byteLimit": 2048000,
      "rowLimit": 10000
     },
     "inputWidgets": {},
     "nuid": "c9e504b3-d102-4a5c-a8f6-cf1e48d43f2d",
     "showTitle": false,
     "tableResultSettingsMap": {},
     "title": ""
    },
    "jupyter": {
     "outputs_hidden": true
    }
   },
   "outputs": [],
   "source": [
    "%pip install polars pyomo"
   ]
  },
  {
   "cell_type": "code",
   "execution_count": 0,
   "metadata": {
    "application/vnd.databricks.v1+cell": {
     "cellMetadata": {
      "byteLimit": 2048000,
      "rowLimit": 10000
     },
     "inputWidgets": {},
     "nuid": "5bef0297-ddd7-44a2-9300-2521b7442c33",
     "showTitle": false,
     "tableResultSettingsMap": {},
     "title": ""
    }
   },
   "outputs": [],
   "source": [
    "dbutils.library.restartPython()"
   ]
  },
  {
   "cell_type": "code",
   "execution_count": 0,
   "metadata": {
    "application/vnd.databricks.v1+cell": {
     "cellMetadata": {
      "byteLimit": 2048000,
      "rowLimit": 10000
     },
     "inputWidgets": {},
     "nuid": "81f63e0f-8fbf-4412-b29a-937fb6b5b5b5",
     "showTitle": false,
     "tableResultSettingsMap": {},
     "title": ""
    }
   },
   "outputs": [],
   "source": [
    "from src.storage_model import StorageModel"
   ]
  },
  {
   "cell_type": "code",
   "execution_count": 0,
   "metadata": {
    "application/vnd.databricks.v1+cell": {
     "cellMetadata": {
      "byteLimit": 2048000,
      "rowLimit": 10000
     },
     "inputWidgets": {},
     "nuid": "10a2d350-4f4f-45cc-9ff6-42ea38216cea",
     "showTitle": false,
     "tableResultSettingsMap": {},
     "title": ""
    }
   },
   "outputs": [],
   "source": [
    "# import polars as pl\n",
    "# import plotly.express as px\n",
    "# from datetime import date, timedelta\n",
    "from pyspark.sql import functions as F, Window as W, types as T, DataFrame\n",
    "\n",
    "from src import data, spark\n",
    "# from src.mtm.scenario_price import generate_mtm_scenario_prices\n",
    "# from src.earnings import (\n",
    "#     update_price_model_deal_profiles,\n",
    "#     update_deal_settlement_details_table,\n",
    "#     update_retail_rate_calendar_table,\n",
    "#     settlement_calculations as calcs\n",
    "# )\n",
    "from src.earnings.deal_info import deal_settlement_details\n",
    "\n",
    "# model_id = \"20250617\""
   ]
  },
  {
   "cell_type": "code",
   "execution_count": 0,
   "metadata": {
    "application/vnd.databricks.v1+cell": {
     "cellMetadata": {
      "byteLimit": 2048000,
      "rowLimit": 10000
     },
     "inputWidgets": {},
     "nuid": "1456ec2f-aab3-46c0-855d-8e7588cfd158",
     "showTitle": false,
     "tableResultSettingsMap": {},
     "title": ""
    }
   },
   "outputs": [],
   "source": [
    "spot_price = (\n",
    "    spark.table(\"prod.silver_mms.tradingprice\")\n",
    "    .withColumn(\n",
    "        \"interval_date\",\n",
    "        F.when(\n",
    "            (F.minute(\"settlementdate\") == 0) &\n",
    "            (F.hour(\"settlementdate\") == 0),\n",
    "            F.date_sub(F.to_date(\"settlementdate\"), 1)\n",
    "        )\n",
    "        .otherwise(F.to_date(\"settlementdate\"))\n",
    "    )\n",
    "    .filter(F.col(\"regionid\") == \"SA1\")\n",
    "    .filter(F.col(\"interval_date\").between(\"2025-06-10\", \"2025-06-16\"))\n",
    "    .select(\n",
    "        F.col(\"settlementdate\").alias(\"interval_date_time\"),\n",
    "        F.col(\"rrp\").cast(\"float\")\n",
    "    )\n",
    "    .toPandas()\n",
    ")"
   ]
  },
  {
   "cell_type": "code",
   "execution_count": 0,
   "metadata": {
    "application/vnd.databricks.v1+cell": {
     "cellMetadata": {
      "byteLimit": 2048000,
      "rowLimit": 10000
     },
     "inputWidgets": {},
     "nuid": "eea067ba-c36e-4d65-8754-886103558969",
     "showTitle": false,
     "tableResultSettingsMap": {},
     "title": ""
    }
   },
   "outputs": [],
   "source": [
    "import os"
   ]
  },
  {
   "cell_type": "code",
   "execution_count": 0,
   "metadata": {
    "application/vnd.databricks.v1+cell": {
     "cellMetadata": {
      "byteLimit": 2048000,
      "rowLimit": 10000
     },
     "inputWidgets": {},
     "nuid": "f282081b-badc-4cba-8aac-ed30c902ab59",
     "showTitle": false,
     "tableResultSettingsMap": {},
     "title": ""
    }
   },
   "outputs": [],
   "source": [
    "exit_code = os.system(\"which cbc > /dev/null\")"
   ]
  },
  {
   "cell_type": "code",
   "execution_count": 0,
   "metadata": {
    "application/vnd.databricks.v1+cell": {
     "cellMetadata": {
      "byteLimit": 2048000,
      "rowLimit": 10000
     },
     "inputWidgets": {},
     "nuid": "2630aaf9-b1e9-4593-aea4-df500c476c01",
     "showTitle": false,
     "tableResultSettingsMap": {},
     "title": ""
    }
   },
   "outputs": [],
   "source": [
    "model = StorageModel(111, 2.6, 0.81)"
   ]
  },
  {
   "cell_type": "code",
   "execution_count": 0,
   "metadata": {
    "application/vnd.databricks.v1+cell": {
     "cellMetadata": {
      "byteLimit": 2048000,
      "rowLimit": 10000
     },
     "inputWidgets": {},
     "nuid": "5bf45ae2-eaf2-409c-9bf4-3e67061e4fae",
     "showTitle": false,
     "tableResultSettingsMap": {},
     "title": ""
    }
   },
   "outputs": [],
   "source": [
    "result = model.solve(spot_price)"
   ]
  },
  {
   "cell_type": "code",
   "execution_count": 0,
   "metadata": {
    "application/vnd.databricks.v1+cell": {
     "cellMetadata": {
      "byteLimit": 2048000,
      "rowLimit": 10000
     },
     "inputWidgets": {},
     "nuid": "e330b51e-c381-4e4c-859b-100a7337f1cf",
     "showTitle": false,
     "tableResultSettingsMap": {},
     "title": ""
    }
   },
   "outputs": [],
   "source": [
    "result"
   ]
  },
  {
   "cell_type": "code",
   "execution_count": 0,
   "metadata": {
    "application/vnd.databricks.v1+cell": {
     "cellMetadata": {
      "byteLimit": 2048000,
      "rowLimit": 10000
     },
     "inputWidgets": {},
     "nuid": "c6d1cb2f-82e0-432e-9691-98faafc7dac7",
     "showTitle": false,
     "tableResultSettingsMap": {},
     "title": ""
    }
   },
   "outputs": [],
   "source": [
    "import plotly.graph_objects as go\n",
    "from plotly.subplots import make_subplots\n",
    "\n",
    "# Create subplots with secondary y-axis\n",
    "fig = make_subplots(specs=[[{\"secondary_y\": True}]])\n",
    "\n",
    "# Add traces for the main y-axis (left side)\n",
    "fig.add_trace(\n",
    "    go.Scatter(\n",
    "        x=result['interval_date_time'], \n",
    "        y=result['charge_mw'],\n",
    "        mode='lines',\n",
    "        name='Charge (MW)',\n",
    "        line=dict(color='blue')\n",
    "    ),\n",
    "    secondary_y=False,\n",
    ")\n",
    "\n",
    "fig.add_trace(\n",
    "    go.Scatter(\n",
    "        x=result['interval_date_time'], \n",
    "        y=result['discharge_mw'],\n",
    "        mode='lines',\n",
    "        name='Discharge (MW)',\n",
    "        line=dict(color='red')\n",
    "    ),\n",
    "    secondary_y=False,\n",
    ")\n",
    "\n",
    "fig.add_trace(\n",
    "    go.Scatter(\n",
    "        x=result['interval_date_time'], \n",
    "        y=result['effective_storage_level_mwh'],\n",
    "        mode='lines',\n",
    "        name='Storage Level (MWh)',\n",
    "        line=dict(color='green')\n",
    "    ),\n",
    "    secondary_y=False,\n",
    ")\n",
    "\n",
    "# Add trace for the secondary y-axis (right side)\n",
    "fig.add_trace(\n",
    "    go.Scatter(\n",
    "        x=result['interval_date_time'], \n",
    "        y=result['rrp'],\n",
    "        mode='lines',\n",
    "        name='RRP',\n",
    "        line=dict(color='orange', dash='dash')\n",
    "    ),\n",
    "    secondary_y=True,\n",
    ")\n",
    "\n",
    "# Set x-axis title\n",
    "fig.update_xaxes(title_text=\"Date/Time\")\n",
    "\n",
    "# Set y-axes titles\n",
    "fig.update_yaxes(title_text=\"Power (MW) / Storage (MWh)\", secondary_y=False)\n",
    "fig.update_yaxes(title_text=\"RRP\", secondary_y=True)\n",
    "\n",
    "# Update layout\n",
    "fig.update_layout(\n",
    "    title=\"Energy Storage System Performance vs RRP\",\n",
    "    hovermode='x unified',\n",
    "    legend=dict(\n",
    "        orientation=\"h\",\n",
    "        yanchor=\"bottom\",\n",
    "        y=1.02,\n",
    "        xanchor=\"right\",\n",
    "        x=1\n",
    "    )\n",
    ")\n",
    "\n",
    "# Show the plot\n",
    "fig.show()"
   ]
  },
  {
   "cell_type": "code",
   "execution_count": 0,
   "metadata": {
    "application/vnd.databricks.v1+cell": {
     "cellMetadata": {
      "byteLimit": 2048000,
      "rowLimit": 10000
     },
     "inputWidgets": {},
     "nuid": "d1058d2d-9aa9-47b9-9564-97c978b985e4",
     "showTitle": false,
     "tableResultSettingsMap": {},
     "title": ""
    }
   },
   "outputs": [],
   "source": [
    "import pyomo.environ as pyo"
   ]
  },
  {
   "cell_type": "code",
   "execution_count": 0,
   "metadata": {
    "application/vnd.databricks.v1+cell": {
     "cellMetadata": {
      "byteLimit": 2048000,
      "rowLimit": 10000
     },
     "inputWidgets": {},
     "nuid": "a3da15ed-640d-4a14-9d8e-132647825f1a",
     "showTitle": false,
     "tableResultSettingsMap": {},
     "title": ""
    }
   },
   "outputs": [],
   "source": [
    "import pandas as pd\n",
    "from functools import reduce"
   ]
  },
  {
   "cell_type": "code",
   "execution_count": 0,
   "metadata": {
    "application/vnd.databricks.v1+cell": {
     "cellMetadata": {
      "byteLimit": 2048000,
      "rowLimit": 10000
     },
     "inputWidgets": {},
     "nuid": "d84fedb7-2643-4986-9526-159a73632f59",
     "showTitle": false,
     "tableResultSettingsMap": {},
     "title": ""
    }
   },
   "outputs": [],
   "source": [
    "import plotly.express as px"
   ]
  },
  {
   "cell_type": "code",
   "execution_count": 0,
   "metadata": {
    "application/vnd.databricks.v1+cell": {
     "cellMetadata": {
      "byteLimit": 2048000,
      "rowLimit": 10000
     },
     "inputWidgets": {},
     "nuid": "9bc04c36-7816-4456-a5a8-204b092cd1d0",
     "showTitle": false,
     "tableResultSettingsMap": {},
     "title": ""
    }
   },
   "outputs": [],
   "source": [
    "px.line(\n",
    "    pd.merge()\n",
    ")"
   ]
  },
  {
   "cell_type": "code",
   "execution_count": 0,
   "metadata": {
    "application/vnd.databricks.v1+cell": {
     "cellMetadata": {
      "byteLimit": 2048000,
      "rowLimit": 10000
     },
     "inputWidgets": {},
     "nuid": "abcb9fc4-9266-4285-9648-2010ea6c5406",
     "showTitle": false,
     "tableResultSettingsMap": {},
     "title": ""
    }
   },
   "outputs": [],
   "source": [
    "data.sim.storage_details().display()"
   ]
  },
  {
   "cell_type": "code",
   "execution_count": 0,
   "metadata": {
    "application/vnd.databricks.v1+cell": {
     "cellMetadata": {
      "byteLimit": 2048000,
      "rowLimit": 10000
     },
     "inputWidgets": {},
     "nuid": "2edd3afb-778b-4140-aed7-28c1eaf63cf8",
     "showTitle": false,
     "tableResultSettingsMap": {},
     "title": ""
    }
   },
   "outputs": [],
   "source": [
    "data.sim.deal_factors().filter(F.col(\"deal_id\") == 2996).display()"
   ]
  },
  {
   "cell_type": "code",
   "execution_count": 0,
   "metadata": {
    "application/vnd.databricks.v1+cell": {
     "cellMetadata": {},
     "inputWidgets": {},
     "nuid": "7d4f1931-f726-4a8a-a7a4-1d30bb1d3c98",
     "showTitle": false,
     "tableResultSettingsMap": {},
     "title": ""
    }
   },
   "outputs": [],
   "source": [
    "import polars as pl\n",
    "\n",
    "from pyspark.sql import functions as F\n",
    "from src.earnings import settlement_calculations as calcs\n",
    "from src import data, spark\n",
    "\n",
    "\n",
    "# MTM_EARNINGS_TABLE = \"exploration.earnings_forecast.daily_mtm_scenario_earnings\"\n",
    "\n",
    "# def calculate_earnings_forecast() -> None:\n",
    "\"\"\"\n",
    "Performs earnings calcluations on the MtM earnings scenario writes out the result.\n",
    "\"\"\"\n",
    "# Deal details\n",
    "deal_settlement_details = pl.from_arrow(data.earnings.deal_settlement_details().toArrow())\n",
    "\n",
    "# Price data\n",
    "spot_prices = pl.from_arrow(data.earnings.daily_mtm_scenario_prices().toArrow())\n",
    "lgc_prices = pl.from_arrow(\n",
    "    data.market_price.lgc_prices()\n",
    "    .join(\n",
    "        data.date_calendar,\n",
    "        F.col(\"date\").between(F.col(\"period_start\"), F.col(\"period_end\"))\n",
    "    )\n",
    "    .select(\n",
    "        F.col(\"date\").alias(\"interval_date\"),\n",
    "        F.col(\"price\").alias(\"lgc_price\")\n",
    "    )\n",
    "    .toArrow()\n",
    ")\n",
    "\n",
    "# Generation data\n",
    "generation_profiles = pl.from_arrow(data.earnings.daily_mtm_scenario_generation_profiles().toArrow())\n",
    "generation_profiles = apply_generation_turndown(\n",
    "    turndowns=(\n",
    "        deal_settlement_details\n",
    "        .filter(pl.col(\"turndown\").is_not_null())\n",
    "        .select(\n",
    "            \"product_id\",\n",
    "            \"region_number\",\n",
    "            \"start_date\",\n",
    "            \"end_date\",\n",
    "            \"turndown\"\n",
    "        )\n",
    "    ),\n",
    "    generation_profiles=generation_profiles,\n",
    "    spot_prices=spot_prices\n",
    ")\n",
    "\n",
    "# Retail data\n",
    "load_profiles = pl.from_arrow(data.earnings.daily_mtm_scenario_load_profiles().toArrow())\n",
    "rate_calendar = pl.from_arrow(data.earnings.retail_rate_calendar().toArrow())\n",
    "\n",
    "# Wholesale product profiles\n",
    "product_profiles = pl.from_arrow(data.earnings.daily_mtm_scenario_product_profiles().toArrow())"
   ]
  },
  {
   "cell_type": "code",
   "execution_count": 0,
   "metadata": {
    "application/vnd.databricks.v1+cell": {
     "cellMetadata": {
      "byteLimit": 2048000,
      "rowLimit": 10000
     },
     "inputWidgets": {},
     "nuid": "ef6ce70c-8a52-4e36-a833-4b978f09a4a6",
     "showTitle": false,
     "tableResultSettingsMap": {},
     "title": ""
    }
   },
   "outputs": [],
   "source": [
    "(\n",
    "    data.sim.complete_deal_info()\n",
    "    .filter(F.col(\"product_name\").ilike(\"%temp%\"))\n",
    "    .display()\n",
    ")"
   ]
  },
  {
   "cell_type": "code",
   "execution_count": 0,
   "metadata": {
    "application/vnd.databricks.v1+cell": {
     "cellMetadata": {
      "byteLimit": 2048000,
      "rowLimit": 10000
     },
     "inputWidgets": {},
     "nuid": "ca2992b0-f58f-46c2-9749-754e3ff3bb47",
     "showTitle": false,
     "tableResultSettingsMap": {},
     "title": ""
    }
   },
   "outputs": [],
   "source": [
    "deal_settlement_details = pl.from_arrow(data.earnings.deal_settlement_details().toArrow())\n",
    "spot_prices = pl.from_arrow(data.earnings.daily_mtm_scenario_prices().toArrow())\n",
    "lgc_prices = pl.from_arrow(\n",
    "    data.market_price.lgc_prices()\n",
    "    .join(\n",
    "        data.date_calendar,\n",
    "        F.col(\"date\").between(F.col(\"period_start\"), F.col(\"period_end\"))\n",
    "    )\n",
    "    .select(\n",
    "        F.col(\"date\").alias(\"interval_date\"),\n",
    "        F.col(\"price\").alias(\"lgc_price\")\n",
    "    )\n",
    "    .toArrow()\n",
    ")\n",
    "\n",
    "generation_profiles = pl.from_arrow(data.earnings.daily_mtm_scenario_generation_profiles().toArrow())\n",
    "generation_profiles = apply_generation_turndown(\n",
    "    turndowns=(\n",
    "        deal_settlement_details\n",
    "        .filter(pl.col(\"turndown\").is_not_null())\n",
    "        .select(\n",
    "            \"product_id\",\n",
    "            \"region_number\",\n",
    "            \"start_date\",\n",
    "            \"end_date\",\n",
    "            \"turndown\"\n",
    "        )\n",
    "    ),\n",
    "    generation_profiles=generation_profiles,\n",
    "    spot_prices=spot_prices\n",
    ")\n",
    "\n",
    "load_profiles = pl.from_arrow(data.earnings.daily_mtm_scenario_load_profiles().toArrow())\n",
    "rate_calendar = pl.from_arrow(data.earnings.retail_rate_calendar().toArrow())\n",
    "\n",
    "\n",
    "product_profiles = pl.from_arrow(data.earnings.daily_mtm_scenario_product_profiles().toArrow())"
   ]
  },
  {
   "cell_type": "code",
   "execution_count": 0,
   "metadata": {
    "application/vnd.databricks.v1+cell": {
     "cellMetadata": {
      "byteLimit": 2048000,
      "rowLimit": 10000
     },
     "inputWidgets": {},
     "nuid": "d7d5e1bd-f9b9-417e-9d93-802a52d19ed1",
     "showTitle": false,
     "tableResultSettingsMap": {},
     "title": ""
    }
   },
   "outputs": [],
   "source": [
    "earnings_df = calcs.ppa_energy(\n",
    "    deal_info=(\n",
    "        deal_settlement_details\n",
    "        .filter(\n",
    "            pl.col(\"instrument\") == \"ppa_energy\"\n",
    "        )\n",
    "        .select(\n",
    "            \"deal_id\",\n",
    "            \"product_id\",\n",
    "            \"instrument_id\",\n",
    "            \"start_date\",\n",
    "            \"end_date\",\n",
    "            \"region_number\",\n",
    "            \"floor\",\n",
    "            \"turndown\",\n",
    "            \"price\",\n",
    "            pl.col(\"quantity\").alias(\"quantity_factor\")   \n",
    "        )\n",
    "    ),\n",
    "    spot_prices=spot_prices,\n",
    "    generation_profiles=generation_profiles\n",
    ")"
   ]
  },
  {
   "cell_type": "code",
   "execution_count": 0,
   "metadata": {
    "application/vnd.databricks.v1+cell": {
     "cellMetadata": {
      "byteLimit": 2048000,
      "rowLimit": 10000
     },
     "inputWidgets": {},
     "nuid": "0e1d53d0-e347-4ee1-88ac-ac6a403b68e6",
     "showTitle": false,
     "tableResultSettingsMap": {},
     "title": ""
    }
   },
   "outputs": [],
   "source": [
    "earnings_df = pl.concat([\n",
    "    earnings_df,\n",
    "    calcs.asset_toll_energy(\n",
    "        deal_info=(\n",
    "            deal_settlement_details\n",
    "            .filter(pl.col(\"instrument\") == \"asset_toll_energy\")\n",
    "            .select(\n",
    "                \"deal_id\",\n",
    "                \"product_id\",\n",
    "                \"instrument_id\",\n",
    "                \"start_date\",\n",
    "                \"end_date\",\n",
    "                \"region_number\",\n",
    "                \"tolling_fee\",\n",
    "                pl.col(\"quantity\").alias(\"quantity_factor\")\n",
    "            )\n",
    "        ),\n",
    "        spot_prices=spot_prices,\n",
    "        generation_profiles=generation_profiles\n",
    "    )\n",
    "])"
   ]
  },
  {
   "cell_type": "code",
   "execution_count": 0,
   "metadata": {
    "application/vnd.databricks.v1+cell": {
     "cellMetadata": {
      "byteLimit": 2048000,
      "rowLimit": 10000
     },
     "inputWidgets": {},
     "nuid": "bc51ce90-4cb9-446d-b800-7150a675fddc",
     "showTitle": false,
     "tableResultSettingsMap": {},
     "title": ""
    }
   },
   "outputs": [],
   "source": [
    "earnings_df = pl.concat([\n",
    "    earnings_df,\n",
    "    calcs.generation_lgc(\n",
    "        deal_info=(\n",
    "            deal_settlement_details\n",
    "            .filter(pl.col(\"instrument\") == \"generation_lgc\")\n",
    "            .select(\n",
    "                \"deal_id\",\n",
    "                \"product_id\",\n",
    "                \"instrument_id\",\n",
    "                \"start_date\",\n",
    "                \"end_date\",\n",
    "                \"region_number\",\n",
    "                pl.col(\"lgc_price\").alias(\"price\"),\n",
    "                pl.col(\"quantity\").alias(\"quantity_factor\"),\n",
    "                \"lgc_percentage\"\n",
    "            )\n",
    "        ),\n",
    "        generation_profiles=generation_profiles,\n",
    "        lgc_prices=lgc_prices\n",
    "    )\n",
    "])"
   ]
  },
  {
   "cell_type": "code",
   "execution_count": 0,
   "metadata": {
    "application/vnd.databricks.v1+cell": {
     "cellMetadata": {
      "byteLimit": 2048000,
      "rowLimit": 10000
     },
     "inputWidgets": {},
     "nuid": "743852b1-fcc5-4f40-8ed3-2dbf9c36ee5c",
     "showTitle": false,
     "tableResultSettingsMap": {},
     "title": ""
    }
   },
   "outputs": [],
   "source": [
    "earnings_df = pl.concat([\n",
    "    earnings_df,\n",
    "    calcs.retail_energy(\n",
    "        deal_info=(\n",
    "            deal_settlement_details\n",
    "            .filter(pl.col(\"instrument\") == \"retail_energy\")\n",
    "            .select(\n",
    "                \"deal_id\",\n",
    "                \"product_id\",\n",
    "                \"instrument_id\",\n",
    "                \"start_date\",\n",
    "                \"end_date\"\n",
    "            )\n",
    "        ),\n",
    "        load_profiles=load_profiles,\n",
    "        spot_prices=spot_prices,\n",
    "        rate_calendar=rate_calendar\n",
    "    )\n",
    "])\n"
   ]
  },
  {
   "cell_type": "code",
   "execution_count": 0,
   "metadata": {
    "application/vnd.databricks.v1+cell": {
     "cellMetadata": {
      "byteLimit": 2048000,
      "rowLimit": 10000
     },
     "inputWidgets": {},
     "nuid": "02cf3f61-6481-4121-bdd3-ba4ddd2d91b4",
     "showTitle": false,
     "tableResultSettingsMap": {},
     "title": ""
    }
   },
   "outputs": [],
   "source": [
    "earnings_df = pl.concat([\n",
    "    earnings_df,\n",
    "    calcs.retail_lgc(\n",
    "        deal_info=(\n",
    "            deal_settlement_details\n",
    "            .filter(pl.col(\"instrument\") == \"retail_lgc\")\n",
    "            .select(\n",
    "                \"deal_id\",\n",
    "                \"product_id\",\n",
    "                \"instrument_id\",\n",
    "                \"start_date\",\n",
    "                \"end_date\",\n",
    "                \"lgc_percentage\",\n",
    "                pl.col(\"lgc_price\").alias(\"price\")\n",
    "            )\n",
    "        ),\n",
    "        load_profiles=load_profiles,\n",
    "        lgc_prices=lgc_prices\n",
    "    )\n",
    "])\n"
   ]
  },
  {
   "cell_type": "code",
   "execution_count": 0,
   "metadata": {
    "application/vnd.databricks.v1+cell": {
     "cellMetadata": {
      "byteLimit": 2048000,
      "rowLimit": 10000
     },
     "inputWidgets": {},
     "nuid": "6ab7c465-d34d-4a7b-b9e3-b7d1326962dd",
     "showTitle": false,
     "tableResultSettingsMap": {},
     "title": ""
    }
   },
   "outputs": [],
   "source": [
    "earnings_df = pl.concat([\n",
    "    earnings_df,\n",
    "    calcs.flat_energy_swap(\n",
    "        deal_info=(\n",
    "            deal_settlement_details\n",
    "            .filter(pl.col(\"instrument\") == \"flat_energy_swap\")\n",
    "            .select(\n",
    "                \"deal_id\",\n",
    "                \"product_id\",\n",
    "                \"instrument_id\",\n",
    "                \"start_date\",\n",
    "                \"end_date\",\n",
    "                \"region_number\",\n",
    "                pl.col(\"quantity\").alias(\"quantity_mw\"),\n",
    "                \"price\"\n",
    "            )\n",
    "        ),\n",
    "        spot_prices=spot_prices\n",
    "    )\n",
    "])\n"
   ]
  },
  {
   "cell_type": "code",
   "execution_count": 0,
   "metadata": {
    "application/vnd.databricks.v1+cell": {
     "cellMetadata": {
      "byteLimit": 2048000,
      "rowLimit": 10000
     },
     "inputWidgets": {},
     "nuid": "3e9a2d1a-4266-44aa-b99b-c76b9f097f74",
     "showTitle": false,
     "tableResultSettingsMap": {},
     "title": ""
    }
   },
   "outputs": [],
   "source": [
    "earnings_df = pl.concat([\n",
    "    earnings_df,\n",
    "    calcs.flat_energy_cap(\n",
    "        deal_info=(\n",
    "            deal_settlement_details\n",
    "            .filter(pl.col(\"instrument\") == \"flat_energy_cap\")\n",
    "            .select(\n",
    "                \"deal_id\",\n",
    "                \"product_id\",\n",
    "                \"instrument_id\",\n",
    "                \"start_date\",\n",
    "                \"end_date\",\n",
    "                \"region_number\",\n",
    "                pl.col(\"quantity\").alias(\"quantity_mw\"),\n",
    "                \"price\",\n",
    "                \"strike\"\n",
    "        )\n",
    "        ),\n",
    "        spot_prices=spot_prices\n",
    "    )\n",
    "])\n"
   ]
  },
  {
   "cell_type": "code",
   "execution_count": 0,
   "metadata": {
    "application/vnd.databricks.v1+cell": {
     "cellMetadata": {
      "byteLimit": 2048000,
      "rowLimit": 10000
     },
     "inputWidgets": {},
     "nuid": "60cc7574-e9f8-4ef2-9391-1ae7a739becc",
     "showTitle": false,
     "tableResultSettingsMap": {},
     "title": ""
    }
   },
   "outputs": [],
   "source": [
    "earnings_df = pl.concat([\n",
    "    earnings_df,    \n",
    "    calcs.profiled_energy_swap(\n",
    "        deal_info=(\n",
    "            deal_settlement_details\n",
    "            .filter(pl.col(\"instrument\") == \"profiled_energy_swap\")\n",
    "            .select(\n",
    "                \"deal_id\",\n",
    "                \"product_id\",\n",
    "                \"instrument_id\",\n",
    "                \"start_date\",\n",
    "                \"end_date\",\n",
    "                \"region_number\",\n",
    "                pl.col(\"quantity\").alias(\"quantity_mw\"),\n",
    "                \"price\"\n",
    "            )\n",
    "        ),\n",
    "        product_profiles=product_profiles,\n",
    "        spot_prices=spot_prices\n",
    "    )\n",
    "])\n"
   ]
  },
  {
   "cell_type": "code",
   "execution_count": 0,
   "metadata": {
    "application/vnd.databricks.v1+cell": {
     "cellMetadata": {
      "byteLimit": 2048000,
      "rowLimit": 10000
     },
     "inputWidgets": {},
     "nuid": "828cd9d2-ad58-470b-9fc1-d4c5929f89f9",
     "showTitle": false,
     "tableResultSettingsMap": {},
     "title": ""
    }
   },
   "outputs": [],
   "source": [
    "earnings_df = pl.concat([\n",
    "    earnings_df,\n",
    "    calcs.profiled_energy_cap(\n",
    "        deal_info=(\n",
    "            deal_settlement_details\n",
    "            .filter(pl.col(\"instrument\") == \"profiled_energy_cap\")\n",
    "            .select(\n",
    "                \"deal_id\",\n",
    "                \"product_id\",\n",
    "                \"instrument_id\",\n",
    "                \"start_date\",\n",
    "                \"end_date\",\n",
    "                \"region_number\",\n",
    "                pl.col(\"quantity\").alias(\"quantity_mw\"),\n",
    "                \"price\"\n",
    "            )\n",
    "        ),\n",
    "        product_profiles=product_profiles,\n",
    "        spot_prices=spot_prices\n",
    "    )\n",
    "])\n"
   ]
  },
  {
   "cell_type": "code",
   "execution_count": 0,
   "metadata": {
    "application/vnd.databricks.v1+cell": {
     "cellMetadata": {
      "byteLimit": 2048000,
      "rowLimit": 10000
     },
     "inputWidgets": {},
     "nuid": "8d07eddf-1570-477d-bcc1-ac4bea761032",
     "showTitle": false,
     "tableResultSettingsMap": {},
     "title": ""
    }
   },
   "outputs": [],
   "source": [
    "(\n",
    "    earnings_df\n",
    "    .join(\n",
    "        deal_settlement_details\n",
    "        .select(\n",
    "            \"deal_id\",\n",
    "            \"product_id\",\n",
    "            \"buy\"\n",
    "        )\n",
    "        .unique(),\n",
    "        [\"deal_id\", \"product_id\"]\n",
    "    )\n",
    "    .select(\n",
    "        \"deal_id\",\n",
    "        \"product_id\",\n",
    "        \"instrument_id\",\n",
    "        \"region_number\",\n",
    "        \"buy\",\n",
    "        \"interval_date\",\n",
    "        \"period_id\",\n",
    "        \"volume_mwh\",\n",
    "        pl.when(pl.col(\"buy\"))\n",
    "        .then(pl.col(\"buy_income\"))\n",
    "        .otherwise(pl.col(\"sell_income\"))\n",
    "        .alias(\"income\"),\n",
    "        pl.when(pl.col(\"buy\"))\n",
    "        .then(pl.col(\"sell_income\"))\n",
    "        .otherwise(pl.col(\"buy_income\"))\n",
    "        .alias(\"cost\")\n",
    "    )\n",
    "    .filter(pl.col(\"volume_mwh\").is_null() | pl.col(\"income\").is_null() | pl.col(\"cost\").is_null())\n",
    ")"
   ]
  },
  {
   "cell_type": "code",
   "execution_count": 0,
   "metadata": {
    "application/vnd.databricks.v1+cell": {
     "cellMetadata": {
      "byteLimit": 2048000,
      "rowLimit": 10000
     },
     "inputWidgets": {},
     "nuid": "f84cbe25-9720-4bd4-88c9-5e478f69f220",
     "showTitle": false,
     "tableResultSettingsMap": {},
     "title": ""
    }
   },
   "outputs": [],
   "source": [
    "(\n",
    "    deal_settlement_details\n",
    "    .filter(pl.col(\"instrument\").is_in([\"generation_lgc\", \"retail_lgc\"]))\n",
    ")"
   ]
  },
  {
   "cell_type": "code",
   "execution_count": 0,
   "metadata": {
    "application/vnd.databricks.v1+cell": {
     "cellMetadata": {
      "byteLimit": 2048000,
      "rowLimit": 10000
     },
     "inputWidgets": {},
     "nuid": "9a5c2ba9-548c-494f-9136-7d2ac27f5dba",
     "showTitle": false,
     "tableResultSettingsMap": {},
     "title": ""
    }
   },
   "outputs": [],
   "source": [
    "(\n",
    "    spark.createDataFrame(\n",
    "        earnings_df\n",
    "        .join(\n",
    "            deal_settlement_details\n",
    "            .select(\n",
    "                \"deal_id\",\n",
    "                \"product_id\",\n",
    "                \"buy\"\n",
    "            )\n",
    "            .unique(),\n",
    "            [\"deal_id\", \"product_id\"]\n",
    "        )\n",
    "        .select(\n",
    "            \"deal_id\",\n",
    "            \"product_id\",\n",
    "            \"instrument_id\",\n",
    "            \"region_number\",\n",
    "            \"buy\",\n",
    "            \"interval_date\",\n",
    "            \"period_id\",\n",
    "            \"volume_mwh\",\n",
    "            pl.when(pl.col(\"buy\"))\n",
    "            .then(pl.col(\"buy_income\"))\n",
    "            .otherwise(pl.col(\"sell_income\"))\n",
    "            .alias(\"income\"),\n",
    "            pl.when(pl.col(\"buy\"))\n",
    "            .then(pl.col(\"sell_income\"))\n",
    "            .otherwise(pl.col(\"buy_income\"))\n",
    "            .alias(\"cost\")\n",
    "        )\n",
    "        .to_arrow()\n",
    "    )\n",
    "    .write.mode(\"overwrite\")\n",
    "    .saveAsTable(\"exploration.earnings_forecast.daily_mtm_scenario_earnings\")\n",
    ")"
   ]
  },
  {
   "cell_type": "code",
   "execution_count": 0,
   "metadata": {
    "application/vnd.databricks.v1+cell": {
     "cellMetadata": {
      "byteLimit": 2048000,
      "rowLimit": 10000
     },
     "inputWidgets": {},
     "nuid": "08550a0b-e472-48bb-9d43-26915481fc1c",
     "showTitle": false,
     "tableResultSettingsMap": {},
     "title": ""
    }
   },
   "outputs": [],
   "source": [
    "spark.table(\"exploration.earnings_forecast.daily_mtm_scenario_earnings\").display()"
   ]
  },
  {
   "cell_type": "code",
   "execution_count": 0,
   "metadata": {
    "application/vnd.databricks.v1+cell": {
     "cellMetadata": {
      "byteLimit": 2048000,
      "implicitDf": true,
      "rowLimit": 10000
     },
     "inputWidgets": {},
     "nuid": "0ca5c177-18b9-4722-94e1-4df3d041d871",
     "showTitle": false,
     "tableResultSettingsMap": {},
     "title": ""
    }
   },
   "outputs": [],
   "source": [
    "%sql\n",
    "USE CATALOG exploration;\n",
    "USE SCHEMA earnings_forecast;\n",
    "CREATE OR REPLACE TABLE daily_mtm_scenario_earnings (\n",
    "  product_id SMALLINT NOT NULL,\n",
    "  deal_id SMALLINT NOT NULL,\n",
    "  instrument_id SMALLINT NOT NULL,\n",
    "  region_number TINYINT NOT NULL,\n",
    "  buy BOOLEAN NOT NULL,\n",
    "  interval_date DATE NOT NULL,\n",
    "  period_id SMALLINT NOT NULL,\n",
    "  volume_mwh FLOAT NOT NULL,\n",
    "  income FLOAT NOT NULL,\n",
    "  cost FLOAT NOT NULL,\n",
    "  CONSTRAINT pk_mtm_earnings  PRIMARY KEY (product_id, deal_id, instrument_id, region_number, interval_date, period_id),\n",
    "  CONSTRAINT fk_mtm_earnings_region FOREIGN KEY (region_number) REFERENCES scenario_modelling.region_numbers(region_number),\n",
    "  CONSTRAINT fk_mtm_earnings_instrument FOREIGN KEY (instrument_id) REFERENCES instruments(instrument_id)\n",
    ");"
   ]
  },
  {
   "cell_type": "code",
   "execution_count": 0,
   "metadata": {
    "application/vnd.databricks.v1+cell": {
     "cellMetadata": {
      "byteLimit": 2048000,
      "rowLimit": 10000
     },
     "inputWidgets": {},
     "nuid": "eea599e0-8a81-4445-806c-dba87062364e",
     "showTitle": false,
     "tableResultSettingsMap": {},
     "title": ""
    }
   },
   "outputs": [],
   "source": [
    "spark.table(\"exploration.earnings_forecast.retail_rate_calendar\").groupBy(\"product_id\", \"jurisdiction_id\").agg((F.count(\"rate\")/288).alias(\"days\")).orderBy(F.col(\"days\").desc(), \"product_id\", \"jurisdiction_id\").display()"
   ]
  },
  {
   "cell_type": "code",
   "execution_count": 0,
   "metadata": {
    "application/vnd.databricks.v1+cell": {
     "cellMetadata": {
      "byteLimit": 2048000,
      "rowLimit": 10000
     },
     "inputWidgets": {},
     "nuid": "46672dff-bd8a-445c-8adc-d8fa391f821b",
     "showTitle": false,
     "tableResultSettingsMap": {},
     "title": ""
    }
   },
   "outputs": [],
   "source": [
    "spark.table(\"exploration.earnings_forecast.deal_settlement_details\").display()"
   ]
  },
  {
   "cell_type": "code",
   "execution_count": 0,
   "metadata": {
    "application/vnd.databricks.v1+cell": {
     "cellMetadata": {
      "byteLimit": 2048000,
      "rowLimit": 10000
     },
     "inputWidgets": {},
     "nuid": "9fe0ba19-6ee4-4e27-abc7-06b7147d47c5",
     "showTitle": false,
     "tableResultSettingsMap": {},
     "title": ""
    }
   },
   "outputs": [],
   "source": [
    "deal_info = deal_settlement_details().cache()\n",
    "deal_info.display()"
   ]
  },
  {
   "cell_type": "code",
   "execution_count": 0,
   "metadata": {
    "application/vnd.databricks.v1+cell": {
     "cellMetadata": {
      "byteLimit": 2048000,
      "rowLimit": 10000
     },
     "inputWidgets": {},
     "nuid": "07d0dc1d-16f3-441e-bd25-18c0b83c2d03",
     "showTitle": false,
     "tableResultSettingsMap": {},
     "title": ""
    }
   },
   "outputs": [],
   "source": [
    "complete_deal_info = data.sim.complete_deal_info().cache()\n",
    "ppa_details = data.sim.ppa_details().cache()\n",
    "deal_factors = data.sim.deal_factors().cache()\n",
    "product_profiles = data.sim.product_profiles().cache()\n",
    "date_calendar = (\n",
    "    data.date_calendar.cache()\n",
    "    .filter(F.col(\"date\").between(F.lit(date.today()), F.lit(date.today() + timedelta(days=365*5))))\n",
    ")\n",
    "lgc_rates = data.sim.lgc_rates()"
   ]
  },
  {
   "cell_type": "code",
   "execution_count": 0,
   "metadata": {
    "application/vnd.databricks.v1+cell": {
     "cellMetadata": {
      "byteLimit": 2048000,
      "rowLimit": 10000
     },
     "inputWidgets": {},
     "nuid": "abb964ec-2e6c-46df-a28a-9951ba883eac",
     "showTitle": false,
     "tableResultSettingsMap": {},
     "title": ""
    }
   },
   "outputs": [],
   "source": [
    "wholesale_deal_info = (\n",
    "    date_calendar\n",
    "    .select(F.col(\"date\").alias(\"interval_date\"))\n",
    "    .join(\n",
    "        complete_deal_info\n",
    "        .join(data.region_numbers(), \"regionid\")\n",
    "        .filter(\n",
    "            F.col(\"instrument_calculation\").isin([\"Swap\", \"Cap\"]) &\n",
    "            ~F.col(\"product_name\").like(\"%ACCU%\") & # Is there a way to positively identify energy contracts instead of exluding non-energy?\n",
    "            (F.col(\"optionality\") == \"Firm\")\n",
    "            # To be implemented:\n",
    "            #   - Options 3? (No options currently past Q2 25(?), and earnings methodology not specified)\n",
    "            #   - Quantos 2? (Wind quanto til Aug 25, but not properly captured in Sim)\n",
    "            #   - Floor 1 (Easy)\n",
    "        )\n",
    "        .alias(\"deal_info\"),\n",
    "        F.col(\"interval_date\").between(F.col(\"product_start_date\"), F.col(\"product_end_date\"))\n",
    "    )\n",
    "    .join(\n",
    "        deal_factors\n",
    "        .filter(F.col(\"type\") == \"R\")\n",
    "        .withColumnRenamed(\"factor\", \"escalation_factor\")\n",
    "        .alias(\"escalation_factors\"),\n",
    "        (F.col(\"deal_info.deal_id\") == F.col(\"escalation_factors.deal_id\")) &\n",
    "        F.col(\"interval_date\").between(\n",
    "            F.col(\"escalation_factors.from_date\"),\n",
    "            F.col(\"escalation_factors.to_date\")\n",
    "        ),\n",
    "        \"left\"\n",
    "    )\n",
    "    .fillna({\"escalation_factor\": 1.0})\n",
    "    .groupBy(\n",
    "        \"product_id\",\n",
    "        \"instrument_calculation\",\n",
    "        \"deal_info.deal_id\",\n",
    "        \"buy_sell\",\n",
    "        \"region_number\",\n",
    "        \"quantity\",\n",
    "        \"price\",\n",
    "        \"strike_price\"\n",
    "    )\n",
    "    .agg(\n",
    "        F.min(\"interval_date\").alias(\"start_date\"),\n",
    "        F.max(\"interval_date\").alias(\"end_date\")\n",
    "    )\n",
    "    .join(\n",
    "        product_profiles\n",
    "        .select(\n",
    "            \"product_id\",\n",
    "            F.col(\"profile_mw\").isNotNull().alias(\"shape_product\")\n",
    "        )\n",
    "        .distinct(),\n",
    "        \"product_id\",\n",
    "        \"left\"\n",
    "    )\n",
    "    .fillna({\"shape_product\": False})\n",
    "    .select(\n",
    "        \"deal_id\",\n",
    "        \"product_id\",\n",
    "        F.when(\n",
    "            F.col(\"shape_product\") &\n",
    "            (F.col(\"instrument_calculation\") == \"Swap\"),\n",
    "            F.lit(\"profiled_swap\")\n",
    "        ).when(\n",
    "            F.col(\"shape_product\") &\n",
    "            (F.col(\"instrument_calculation\") == \"Cap\"),\n",
    "            F.lit(\"profiled_cap\")\n",
    "        ).when(\n",
    "            (~F.col(\"shape_product\")) &\n",
    "            (F.col(\"instrument_calculation\") == \"Swap\"),\n",
    "            F.lit(\"flat_swap\")\n",
    "        ).when(\n",
    "            (~F.col(\"shape_product\")) &\n",
    "            (F.col(\"instrument_calculation\") == \"Cap\"),\n",
    "            F.lit(\"flat_cap\")\n",
    "        ).alias(\"deal_type\"),\n",
    "        \"buy_sell\",\n",
    "        \"region_number\",\n",
    "        F.col(\"start_date\"),\n",
    "        F.col(\"end_date\"),\n",
    "        F.col(\"quantity\").cast(\"double\"),\n",
    "        F.col(\"price\").cast(\"double\"),\n",
    "        F.col(\"strike_price\").cast(\"double\").alias(\"strike\"),\n",
    "        F.lit(None).cast(\"double\").alias(\"tolling_fee\"),\n",
    "        F.lit(None).cast(\"double\").alias(\"floor\"),\n",
    "        F.lit(None).cast(\"double\").alias(\"turndown\"),\n",
    "        F.lit(None).cast(\"double\").alias(\"lgc_price\"),\n",
    "        F.lit(None).cast(\"double\").alias(\"lgc_percentage\"),\n",
    "        F.col(\"shape_product\")\n",
    "    )\n",
    "    .orderBy(\"deal_id\", \"product_id\", \"start_date\", \"end_date\")\n",
    ")"
   ]
  },
  {
   "cell_type": "code",
   "execution_count": 0,
   "metadata": {
    "application/vnd.databricks.v1+cell": {
     "cellMetadata": {
      "byteLimit": 2048000,
      "rowLimit": 10000
     },
     "inputWidgets": {},
     "nuid": "016d62d5-85fd-4965-920b-7052dbb398c8",
     "showTitle": false,
     "tableResultSettingsMap": {},
     "title": ""
    }
   },
   "outputs": [],
   "source": [
    "wholesale_deal_info.display()"
   ]
  },
  {
   "cell_type": "code",
   "execution_count": 0,
   "metadata": {
    "application/vnd.databricks.v1+cell": {
     "cellMetadata": {
      "byteLimit": 2048000,
      "rowLimit": 10000
     },
     "inputWidgets": {},
     "nuid": "59661a14-676e-4aee-894d-f84aa2d8453c",
     "showTitle": false,
     "tableResultSettingsMap": {},
     "title": ""
    }
   },
   "outputs": [],
   "source": [
    "complete_deal_info.filter(F.col(\"deal_id\") == 3032).display()"
   ]
  },
  {
   "cell_type": "code",
   "execution_count": 0,
   "metadata": {
    "application/vnd.databricks.v1+cell": {
     "cellMetadata": {
      "byteLimit": 2048000,
      "rowLimit": 10000
     },
     "inputWidgets": {},
     "nuid": "eb234e16-cba9-4a51-b358-4830d431dfb7",
     "showTitle": false,
     "tableResultSettingsMap": {},
     "title": ""
    }
   },
   "outputs": [],
   "source": [
    "spark.table(\"prod.bronze.etrm_sim_products\").printSchema()"
   ]
  },
  {
   "cell_type": "code",
   "execution_count": 0,
   "metadata": {
    "application/vnd.databricks.v1+cell": {
     "cellMetadata": {
      "byteLimit": 2048000,
      "rowLimit": 10000
     },
     "inputWidgets": {},
     "nuid": "18e8cb2b-ed4d-47cd-9986-3065aa33d846",
     "showTitle": false,
     "tableResultSettingsMap": {},
     "title": ""
    }
   },
   "outputs": [],
   "source": [
    "(\n",
    "    product_profiles\n",
    "    .select(\n",
    "        \"product_id\",\n",
    "        F.col(\"profile_mw\").isNotNull().alias(\"shape_product\")\n",
    "    )\n",
    "    .distinct()\n",
    "    .join(\n",
    "        spark.table(\"prod.bronze.etrm_sim_products\")\n",
    "        .select(\n",
    "            F.col(\"id\").alias(\"product_id\"),\n",
    "            F.col(\"name\"),\n",
    "            F.col(\"schedule\")\n",
    "        ),\n",
    "        \"product_id\"\n",
    "    )\n",
    "    .display()\n",
    ")"
   ]
  },
  {
   "cell_type": "code",
   "execution_count": 0,
   "metadata": {
    "application/vnd.databricks.v1+cell": {
     "cellMetadata": {
      "byteLimit": 2048000,
      "rowLimit": 10000
     },
     "inputWidgets": {},
     "nuid": "b7d70fb7-f8de-4a6d-9cf7-e4dce32548cc",
     "showTitle": false,
     "tableResultSettingsMap": {},
     "title": ""
    }
   },
   "outputs": [],
   "source": [
    "retail_deal_info = (\n",
    "    date_calendar\n",
    "    .select(F.col(\"date\").alias(\"interval_date\"))\n",
    "    .join(\n",
    "        complete_deal_info\n",
    "        .filter(F.col(\"instrument\") == \"Retail Customer\"),\n",
    "        F.col(\"interval_date\").between(F.col(\"product_start_date\"), F.col(\"product_end_date\"))\n",
    "    )\n",
    "    .join(data.region_numbers(), \"regionid\")\n",
    "    .join(lgc_rates, [\"product_id\", \"interval_date\"])\n",
    "    .groupBy(\n",
    "        \"deal_id\",\n",
    "        \"product_id\",\n",
    "        \"buy_sell\",\n",
    "        \"region_number\",\n",
    "        \"lgc_price\",\n",
    "        \"lgc_percentage\"\n",
    "    )\n",
    "    .agg(\n",
    "        F.min(\"interval_date\").alias(\"start_date\"),\n",
    "        F.max(\"interval_date\").alias(\"end_date\")\n",
    "    )\n",
    "    .select(\n",
    "        \"deal_id\",\n",
    "        \"product_id\",\n",
    "        F.lit(\"retail\").alias(\"deal_type\"),\n",
    "        \"buy_sell\",\n",
    "        \"region_number\",\n",
    "        F.col(\"start_date\"),\n",
    "        F.col(\"end_date\"),\n",
    "        F.lit(None).cast(\"double\").alias(\"quantity\"),\n",
    "        F.lit(None).cast(\"double\").alias(\"price\"),\n",
    "        F.lit(None).cast(\"double\").alias(\"strike\"),\n",
    "        F.lit(None).cast(\"double\").alias(\"tolling_fee\"),\n",
    "        F.lit(None).cast(\"double\").alias(\"floor\"),\n",
    "        F.lit(None).cast(\"double\").alias(\"turndown\"),\n",
    "        \"lgc_price\",\n",
    "        \"lgc_percentage\"\n",
    "    )\n",
    "    .orderBy(\"deal_id\", \"product_id\", \"start_date\", \"end_date\")\n",
    ")"
   ]
  },
  {
   "cell_type": "code",
   "execution_count": 0,
   "metadata": {
    "application/vnd.databricks.v1+cell": {
     "cellMetadata": {
      "byteLimit": 2048000,
      "rowLimit": 10000
     },
     "inputWidgets": {},
     "nuid": "fda55bd2-547d-40fd-9181-11031a285d6d",
     "showTitle": false,
     "tableResultSettingsMap": {},
     "title": ""
    }
   },
   "outputs": [],
   "source": [
    "retail_deal_info.display()"
   ]
  },
  {
   "cell_type": "code",
   "execution_count": 0,
   "metadata": {
    "application/vnd.databricks.v1+cell": {
     "cellMetadata": {
      "byteLimit": 2048000,
      "rowLimit": 10000
     },
     "inputWidgets": {},
     "nuid": "0854d854-17a6-4180-b37c-8024bef1cf90",
     "showTitle": false,
     "tableResultSettingsMap": {},
     "title": ""
    }
   },
   "outputs": [],
   "source": [
    "# def ppa_deal_info():\n",
    "ppa_deal_info = (\n",
    "    date_calendar\n",
    "    .select(F.col(\"date\").alias(\"interval_date\"))\n",
    "    .join(\n",
    "        ppa_details.alias(\"ppa_details\"),\n",
    "        (F.col(\"interval_date\").between(F.col(\"start_date\"), F.col(\"end_date\")))\n",
    "    )\n",
    "    .join(\n",
    "        complete_deal_info.select(\"product_id\", \"deal_id\", \"price\"),\n",
    "        [\"product_id\", \"deal_id\"]\n",
    "    )\n",
    "    .join(\n",
    "        deal_factors\n",
    "        .filter(F.col(\"type\") == \"R\")\n",
    "        .withColumnRenamed(\"factor\", \"escalation_factor\")\n",
    "        .alias(\"escalation_factors\"),\n",
    "        (F.col(\"ppa_details.deal_id\") == F.col(\"escalation_factors.deal_id\")) &\n",
    "        F.col(\"interval_date\").between(\n",
    "            F.col(\"escalation_factors.from_date\"),\n",
    "            F.col(\"escalation_factors.to_date\")\n",
    "        ),\n",
    "        \"left\"\n",
    "    )\n",
    "    .join(\n",
    "        deal_factors\n",
    "        .filter(F.col(\"type\") == \"M\")\n",
    "        .withColumn(\n",
    "            \"days_in_period\",\n",
    "            F.date_diff(F.col(\"to_date\"), F.col(\"from_date\")) + 1\n",
    "        )\n",
    "        .select(\n",
    "            \"deal_id\",\n",
    "            \"from_date\",\n",
    "            \"to_date\",\n",
    "            (F.col(\"factor\") / F.col(\"days_in_period\")).alias(\"tolling_fee\")\n",
    "        )\n",
    "        .alias(\"tolling_fees\"),\n",
    "        (F.col(\"ppa_details.deal_id\") == F.col(\"tolling_fees.deal_id\")) &\n",
    "        F.col(\"interval_date\").between(\n",
    "            F.col(\"tolling_fees.from_date\"),\n",
    "            F.col(\"tolling_fees.to_date\")\n",
    "        ),\n",
    "        \"left\"\n",
    "    )\n",
    "    .join(\n",
    "        lgc_rates,\n",
    "        [\"product_id\", \"interval_date\"],\n",
    "        \"left\"\n",
    "    )\n",
    "    .fillna({\"escalation_factor\": 1})\n",
    "    .groupBy(\n",
    "        \"ppa_details.deal_id\",\n",
    "        \"ppa_details.product_id\",\n",
    "        \"region_number\",\n",
    "        (F.col(\"price\")*F.col(\"escalation_factor\")).cast(\"double\").alias(\"price\"),\n",
    "        F.col(\"quantity_factor\").alias(\"quantity\"),\n",
    "        \"floor\",\n",
    "        \"turndown\",\n",
    "        \"lgc_price\",\n",
    "        \"lgc_percentage\",\n",
    "        \"tolling_fee\"\n",
    "    )\n",
    "    .agg(\n",
    "        F.min(\"interval_date\").alias(\"start_date\"),\n",
    "        F.max(\"interval_date\").alias(\"end_date\")\n",
    "    )\n",
    "    .select(\n",
    "        \"deal_id\",\n",
    "        \"product_id\",\n",
    "        F.when(\n",
    "            F.col(\"tolling_fee\").isNotNull(),\n",
    "            F.lit(\"asset_toll\")\n",
    "        ).otherwise(F.lit(\"ppa\")).alias(\"settlement_calculation\"),\n",
    "        \"region_number\",\n",
    "        \"start_date\",\n",
    "        \"end_date\",\n",
    "        \"quantity\",\n",
    "        \"price\",\n",
    "        F.lit(None).cast(\"double\").alias(\"strike\"),\n",
    "        \"tolling_fee\",\n",
    "        \"floor\",\n",
    "        \"turndown\",\n",
    "        F.when(\n",
    "            F.col(\"tolling_fee\").isNotNull(),\n",
    "            F.lit(0) # Hack for TB2, would be better to have this reflected in the source table\n",
    "        ).otherwise(F.col(\"lgc_price\")).alias(\"lgc_price\"),\n",
    "        \"lgc_percentage\"\n",
    "    )\n",
    "    .orderBy(\"deal_id\", \"product_id\", \"start_date\", \"end_date\")\n",
    ")"
   ]
  },
  {
   "cell_type": "code",
   "execution_count": 0,
   "metadata": {
    "application/vnd.databricks.v1+cell": {
     "cellMetadata": {
      "byteLimit": 2048000,
      "rowLimit": 10000
     },
     "inputWidgets": {},
     "nuid": "0eb93643-b540-4d7e-bec9-07e78052a650",
     "showTitle": false,
     "tableResultSettingsMap": {},
     "title": ""
    }
   },
   "outputs": [],
   "source": [
    "ppa_deal_info.display()"
   ]
  },
  {
   "cell_type": "code",
   "execution_count": 0,
   "metadata": {
    "application/vnd.databricks.v1+cell": {
     "cellMetadata": {
      "byteLimit": 2048000,
      "rowLimit": 10000
     },
     "inputWidgets": {},
     "nuid": "fd10bd16-33b1-4b21-b618-23d509977bfa",
     "showTitle": false,
     "tableResultSettingsMap": {},
     "title": ""
    }
   },
   "outputs": [],
   "source": [
    "generate_mtm_scenario_prices(model_id)"
   ]
  },
  {
   "cell_type": "code",
   "execution_count": 0,
   "metadata": {
    "application/vnd.databricks.v1+cell": {
     "cellMetadata": {
      "byteLimit": 2048000,
      "implicitDf": true,
      "rowLimit": 10000
     },
     "inputWidgets": {},
     "nuid": "7a98d4de-db24-485b-9e3f-1569f1d42eb4",
     "showTitle": false,
     "tableResultSettingsMap": {},
     "title": ""
    }
   },
   "outputs": [],
   "source": [
    "%sql\n",
    "USE CATALOG exploration;\n",
    "USE SCHEMA earnings_forecast;\n",
    "CREATE OR REPLACE TABLE scenario_generation_profiles (\n",
    "  model_id SMALLINT NOT NULL,\n",
    "  product_id INTEGER NOT NULL,\n",
    "  year SMALLINT NOT NULL,\n",
    "  month_id SMALLINT NOT NULL,\n",
    "  day_id SMALLINT NOT NULL,\n",
    "  period_id SMALLINT NOT NULL,\n",
    "  generation_mwh FLOAT NOT NULL,\n",
    "  CONSTRAINT pk_generation_profile PRIMARY KEY (product_id, year, month_id, day_id, period_id),\n",
    "  CONSTRAINT fk_generation_model FOREIGN KEY (model_id) REFERENCES scenario_modelling.price_models(model_id)\n",
    ");"
   ]
  },
  {
   "cell_type": "code",
   "execution_count": 0,
   "metadata": {
    "application/vnd.databricks.v1+cell": {
     "cellMetadata": {
      "byteLimit": 2048000,
      "rowLimit": 10000
     },
     "inputWidgets": {},
     "nuid": "36ed6ec0-13fc-4499-bd3f-ce64c1d461c1",
     "showTitle": false,
     "tableResultSettingsMap": {},
     "title": ""
    }
   },
   "outputs": [],
   "source": [
    "update_price_model_deal_profiles(model_id)"
   ]
  },
  {
   "cell_type": "code",
   "execution_count": 0,
   "metadata": {
    "application/vnd.databricks.v1+cell": {
     "cellMetadata": {
      "byteLimit": 2048000,
      "rowLimit": 10000
     },
     "inputWidgets": {},
     "nuid": "ae69fd6a-8fdd-4d96-9772-63013329db41",
     "showTitle": false,
     "tableResultSettingsMap": {},
     "title": ""
    }
   },
   "outputs": [],
   "source": [
    "price_sample = pl.from_arrow(spark.table(\"exploration.earnings_forecast.daily_mtm_scenario_prices\").toArrow())\n",
    "\n",
    "(\n",
    "    price_sample\n",
    "    .group_by([\n",
    "        pl.col(\"interval_date\").dt.year().alias(\"year\"),\n",
    "        pl.col(\"interval_date\").dt.quarter().alias(\"quarter\"),\n",
    "        pl.col(\"region_number\")\n",
    "    ])\n",
    "    .agg(\n",
    "        pl.col(\"rrp\").mean().alias(\"mean_rrp\"),\n",
    "        pl.when(pl.col(\"rrp\") > 300)\n",
    "        .then(pl.col(\"rrp\") - 300)\n",
    "        .otherwise(0).mean().alias(\"cap_payout\")\n",
    "    )\n",
    "    .join(\n",
    "        pl.from_arrow(\n",
    "            data.market_price.quarterly_futures_prices()\n",
    "            .join(\n",
    "                data.price_model_scenario.region_numbers(),\n",
    "                \"regionid\"\n",
    "            )\n",
    "            .select(\n",
    "                F.year(\"period_start\").alias(\"year\"),\n",
    "                F.quarter(\"period_start\").alias(\"quarter\"),\n",
    "                \"region_number\",\n",
    "                \"regionid\",\n",
    "                F.col(\"cap_boq\").alias(\"futures_cap\"),\n",
    "                F.col(\"swap_boq\").alias(\"futures_swap\")\n",
    "            )\n",
    "            .toArrow()\n",
    "        ),\n",
    "        [\"year\", \"quarter\", \"region_number\"]\n",
    "    )\n",
    "    .select(\n",
    "        pl.col(\"year\"),\n",
    "        pl.col(\"quarter\"),\n",
    "        pl.col(\"regionid\"),\n",
    "        pl.col(\"mean_rrp\").cast(pl.Float64()).round(2),\n",
    "        pl.col(\"futures_swap\").cast(pl.Float64()).round(2),\n",
    "        pl.col(\"cap_payout\").cast(pl.Float64()).round(2),\n",
    "        pl.col(\"futures_cap\").cast(pl.Float64()).round(2)\n",
    "    )\n",
    "    .sort(\"year\", \"quarter\")\n",
    ")"
   ]
  }
 ],
 "metadata": {
  "application/vnd.databricks.v1+notebook": {
   "computePreferences": null,
   "dashboards": [],
   "environmentMetadata": {
    "base_environment": "",
    "environment_version": "2"
   },
   "inputWidgetPreferences": null,
   "language": "python",
   "notebookMetadata": {
    "mostRecentlyExecutedCommandWithImplicitDF": {
     "commandId": 6291368591322327,
     "dataframes": [
      "_sqldf"
     ]
    },
    "pythonIndentUnit": 4
   },
   "notebookName": "mtm_dev",
   "widgets": {}
  },
  "language_info": {
   "name": "python"
  }
 },
 "nbformat": 4,
 "nbformat_minor": 0
}
