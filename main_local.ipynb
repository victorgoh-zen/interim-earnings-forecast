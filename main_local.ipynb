{
 "cells": [
  {
   "cell_type": "code",
   "execution_count": 1,
   "metadata": {},
   "outputs": [],
   "source": [
    "from databricks.sdk import WorkspaceClient\n",
    "w = WorkspaceClient()\n",
    "\n",
    "w.dbutils.library.restartPython()"
   ]
  },
  {
   "cell_type": "code",
   "execution_count": 2,
   "metadata": {
    "application/vnd.databricks.v1+cell": {
     "cellMetadata": {
      "byteLimit": 2048000,
      "rowLimit": 10000
     },
     "inputWidgets": {},
     "nuid": "92a47773-6535-4cc9-b0ac-548414338741",
     "showTitle": false,
     "tableResultSettingsMap": {},
     "title": ""
    }
   },
   "outputs": [],
   "source": [
    "from databricks.connect import DatabricksSession\n",
    "from pyspark.sql import SparkSession\n",
    "from pyspark.sql import functions as F\n",
    "from pyspark.sql.window import Window as W\n",
    "from datetime import datetime, date\n",
    "import pandas as pd\n",
    "import polars as pl\n",
    "\n",
    "spark = DatabricksSession.builder.getOrCreate()\n",
    "\n",
    "ppa_details_df = pd.read_csv(\"utils/ppa_details.csv\")\n",
    "ppa_details = spark.createDataFrame(ppa_details_df)"
   ]
  },
  {
   "cell_type": "code",
   "execution_count": 3,
   "metadata": {
    "application/vnd.databricks.v1+cell": {
     "cellMetadata": {
      "byteLimit": 2048000,
      "rowLimit": 10000
     },
     "inputWidgets": {},
     "nuid": "a9e562e3-adad-4f1d-ac1d-083f0ea42ede",
     "showTitle": false,
     "tableResultSettingsMap": {},
     "title": ""
    }
   },
   "outputs": [],
   "source": [
    "from utils.extract import extract_deal_info\n",
    "from utils.transform import clean_and_aggregate_earnings\n",
    "\n",
    "start_date = \"2025-01-01\"\n",
    "end_date = \"2026-12-31\"\n",
    "\n",
    "sim_complete_deal_info = extract_deal_info()"
   ]
  },
  {
   "cell_type": "markdown",
   "metadata": {
    "application/vnd.databricks.v1+cell": {
     "cellMetadata": {
      "byteLimit": 2048000,
      "rowLimit": 10000
     },
     "inputWidgets": {},
     "nuid": "a7965730-91c0-4aed-b55d-fefde1d3c529",
     "showTitle": false,
     "tableResultSettingsMap": {},
     "title": ""
    }
   },
   "source": [
    "# Hindcast"
   ]
  },
  {
   "cell_type": "code",
   "execution_count": 4,
   "metadata": {
    "application/vnd.databricks.v1+cell": {
     "cellMetadata": {
      "byteLimit": 2048000,
      "rowLimit": 10000
     },
     "inputWidgets": {},
     "nuid": "413180db-1e49-4aa0-abc5-4fbaeb15af4d",
     "showTitle": false,
     "tableResultSettingsMap": {},
     "title": ""
    }
   },
   "outputs": [],
   "source": [
    "hindcast_df = spark.table(\"exploration.default.earnings_demand_model_2024_hindcast\")\n",
    "hindcast_earnings = clean_and_aggregate_earnings(\n",
    "    df=hindcast_df,\n",
    "    deal_info_df=sim_complete_deal_info,\n",
    "    curve_name=\"2024_hindcast\",\n",
    "    start_date=start_date,\n",
    "    end_date=end_date\n",
    ")\n",
    "\n",
    "combined_earnings = hindcast_earnings"
   ]
  },
  {
   "cell_type": "markdown",
   "metadata": {
    "application/vnd.databricks.v1+cell": {
     "cellMetadata": {
      "byteLimit": 2048000,
      "rowLimit": 10000
     },
     "inputWidgets": {},
     "nuid": "282d099e-907d-420a-bebd-45fe5c484d08",
     "showTitle": false,
     "tableResultSettingsMap": {},
     "title": ""
    }
   },
   "source": [
    "# Output of spiked\n",
    "### need extra step in between for this, prolly automate the generation/update of the table, below is usage only"
   ]
  },
  {
   "cell_type": "code",
   "execution_count": 5,
   "metadata": {
    "application/vnd.databricks.v1+cell": {
     "cellMetadata": {
      "byteLimit": 2048000,
      "rowLimit": 10000
     },
     "inputWidgets": {},
     "nuid": "8ad82348-ed64-4991-bec5-ee2d50cb9d0c",
     "showTitle": false,
     "tableResultSettingsMap": {},
     "title": ""
    }
   },
   "outputs": [],
   "source": [
    "# model_ids = [\"20250320_spiked\", \"20250320_50spiked\", \"20250320_150spiked\"]\n",
    "model_ids = [\"20250320_spiked\"]"
   ]
  },
  {
   "cell_type": "code",
   "execution_count": 6,
   "metadata": {
    "application/vnd.databricks.v1+cell": {
     "cellMetadata": {
      "byteLimit": 2048000,
      "rowLimit": 10000
     },
     "inputWidgets": {},
     "nuid": "41a0bba7-e293-477a-8795-09ec4e21818d",
     "showTitle": false,
     "tableResultSettingsMap": {},
     "title": ""
    }
   },
   "outputs": [],
   "source": [
    "for model_id in model_ids:\n",
    "    model_df = spark.table(f\"exploration.default.earnings_demand_model_{model_id}\")\n",
    "    model_earnings = clean_and_aggregate_earnings(\n",
    "        df=model_df,\n",
    "        deal_info_df=sim_complete_deal_info,\n",
    "        curve_name=model_id,\n",
    "        start_date=start_date,\n",
    "        end_date=end_date,\n",
    "        is_cap_adjusted=True\n",
    "    )\n",
    "\n",
    "    combined_earnings = combined_earnings.unionByName(model_earnings)"
   ]
  },
  {
   "cell_type": "code",
   "execution_count": 7,
   "metadata": {
    "application/vnd.databricks.v1+cell": {
     "cellMetadata": {
      "byteLimit": 2048000,
      "rowLimit": 10000
     },
     "inputWidgets": {},
     "nuid": "6a06d0c0-b8b5-4a99-81be-42b5a111f1e6",
     "showTitle": false,
     "tableResultSettingsMap": {},
     "title": ""
    }
   },
   "outputs": [],
   "source": [
    "sample_rank = (\n",
    "    spark.table(f\"exploration.default.earnings_demand_model_20250320_spiked\")\n",
    "    .filter((F.col(\"status\").isin([\"Approved\", \"Confirmed\"])))\n",
    "    .groupBy(\n",
    "        \"sample_id\",\n",
    "        F.quarter(\"interval_date\").alias(\"quarter\"),\n",
    "        F.year(\"interval_date\").alias(\"year\"),\n",
    "    )\n",
    "    .agg(F.sum(\"earnings\").alias(\"earnings\"))\n",
    "    .withColumn(\n",
    "        \"earnings_rank\",\n",
    "        F.row_number().over(\n",
    "            W.partitionBy(\"year\", \"quarter\").orderBy(F.col(\"earnings\"))\n",
    "        ),\n",
    "    )\n",
    ").cache()\n",
    "\n",
    "p50_df = spark.table(f\"exploration.default.earnings_demand_model_20250320_spiked\")\n",
    "p90_earnings = clean_and_aggregate_earnings(\n",
    "    df=p50_df,\n",
    "    deal_info_df=sim_complete_deal_info,\n",
    "    curve_name=\"20250320_spiked_p90\",\n",
    "    start_date=date(2025, 4, 1),\n",
    "    end_date=end_date,\n",
    "    sample_filter_df=sample_rank,\n",
    "    rank=54,\n",
    ")\n",
    "\n",
    "p10_earnings = clean_and_aggregate_earnings(\n",
    "    df=p50_df,\n",
    "    deal_info_df=sim_complete_deal_info,\n",
    "    curve_name=\"20250320_spiked_p10\",\n",
    "    start_date=date(2025, 4, 1),\n",
    "    end_date=end_date,\n",
    "    sample_filter_df=sample_rank,\n",
    "    rank=7,\n",
    ")\n",
    "\n",
    "combined_earnings = combined_earnings.unionByName(p90_earnings)\n",
    "combined_earnings = combined_earnings.unionByName(p10_earnings)"
   ]
  },
  {
   "cell_type": "markdown",
   "metadata": {
    "application/vnd.databricks.v1+cell": {
     "cellMetadata": {
      "byteLimit": 2048000,
      "rowLimit": 10000
     },
     "inputWidgets": {},
     "nuid": "fdda9277-8880-4d0b-b701-3ece2a4c4cff",
     "showTitle": false,
     "tableResultSettingsMap": {},
     "title": ""
    }
   },
   "source": [
    "# Aurora scenarios"
   ]
  },
  {
   "cell_type": "code",
   "execution_count": 8,
   "metadata": {
    "application/vnd.databricks.v1+cell": {
     "cellMetadata": {
      "byteLimit": 2048000,
      "rowLimit": 10000
     },
     "inputWidgets": {},
     "nuid": "d46c3cb9-3b2c-40f7-b3e9-54387f1dfad8",
     "showTitle": false,
     "tableResultSettingsMap": {},
     "title": ""
    }
   },
   "outputs": [],
   "source": [
    "aurora_df = spark.table(\"exploration.default.earnings_aurora_scenarios\")\n",
    "aurora_earnings = clean_and_aggregate_earnings(\n",
    "    df=aurora_df,\n",
    "    deal_info_df=sim_complete_deal_info,\n",
    "    curve_name=\"20250320_aurora\",\n",
    "    start_date=start_date,\n",
    "    end_date=end_date,\n",
    "    is_aurora=True\n",
    ")\n",
    "\n",
    "combined_earnings = combined_earnings.unionByName(aurora_earnings)"
   ]
  },
  {
   "cell_type": "code",
   "execution_count": 0,
   "metadata": {
    "application/vnd.databricks.v1+cell": {
     "cellMetadata": {
      "byteLimit": 2048000,
      "rowLimit": 10000
     },
     "inputWidgets": {},
     "nuid": "ad8af697-13f0-4f04-8949-9ff63b67970d",
     "showTitle": false,
     "tableResultSettingsMap": {},
     "title": ""
    }
   },
   "outputs": [],
   "source": [
    "combined_earnings_df = pl.from_pandas(combined_earnings.toPandas())"
   ]
  },
  {
   "cell_type": "markdown",
   "metadata": {
    "application/vnd.databricks.v1+cell": {
     "cellMetadata": {
      "byteLimit": 2048000,
      "rowLimit": 10000
     },
     "inputWidgets": {},
     "nuid": "b0bcc3e3-41fa-44ff-9269-abb98ceede09",
     "showTitle": false,
     "tableResultSettingsMap": {},
     "title": ""
    }
   },
   "source": [
    "# Outlook output"
   ]
  },
  {
   "cell_type": "code",
   "execution_count": 0,
   "metadata": {
    "application/vnd.databricks.v1+cell": {
     "cellMetadata": {
      "byteLimit": 2048000,
      "rowLimit": 10000
     },
     "inputWidgets": {},
     "nuid": "f45d1d69-6de4-467a-ace1-446924ca75c8",
     "showTitle": false,
     "tableResultSettingsMap": {},
     "title": ""
    }
   },
   "outputs": [],
   "source": [
    "curve_names = pl.DataFrame(\n",
    "    {\n",
    "        \"curve\": [\n",
    "            \"2024_hindcast\",\n",
    "            \"20250320_spiked_p90\",\n",
    "            \"20250320_spiked_p10\",\n",
    "            \"20250320_spiked\",\n",
    "            \"20250320_50spiked\",\n",
    "            \"20250320_150spiked\",\n",
    "            \"Central\",\n",
    "            \"Messy\",\n",
    "        ],\n",
    "        \"Curve Name\": [\n",
    "            \"2024 Hindcast\",\n",
    "            \"Demand Model (P90)\",\n",
    "            \"Demand Model (P10)\",\n",
    "            \"Demand Model (Mean)\",\n",
    "            \"Demand Model (50% Cap)\",\n",
    "            \"Demand Model (150% Cap)\",\n",
    "            \"Aurora Central\",\n",
    "            \"Aurora Messy\",\n",
    "        ],\n",
    "    }\n",
    ")\n",
    "\n",
    "(\n",
    "    combined_earnings_df.filter(\n",
    "        pl.col(\"total_earnings\").is_not_null() & (pl.col(\"year\") >= 2025)\n",
    "    )\n",
    "    .join(curve_names, \"curve\")\n",
    "    .with_columns(\n",
    "        pl.when(pl.col(\"buy_sell\") == \"Buy\")\n",
    "        .then(pl.col(\"total_income\"))\n",
    "        .otherwise(-pl.col(\"total_cost\"))\n",
    "        .alias(\"floating_earnings\"),\n",
    "        pl.when(pl.col(\"buy_sell\") == \"Buy\")\n",
    "        .then(-pl.col(\"total_cost\"))\n",
    "        .otherwise(pl.col(\"total_income\"))\n",
    "        .alias(\"fixed_earnings\"),\n",
    "        pl.when(pl.col(\"deal_id\") == 888_888)\n",
    "        .then(pl.lit(\"Hypothetical\"))\n",
    "        .otherwise(pl.col(\"status\"))\n",
    "        .alias(\"status\"),\n",
    "    )\n",
    "    .select(\n",
    "        pl.col(\"Curve Name\"),\n",
    "        pl.col(\"year\").alias(\"Year\"),\n",
    "        pl.col(\"quarter\").alias(\"Quarter\"),\n",
    "        pl.col(\"deal_id\").alias(\"Deal ID\"),\n",
    "        pl.col(\"deal_name\").alias(\"Deal Name\"),\n",
    "        pl.col(\"product_name\").alias(\"Product Name\"),\n",
    "        pl.col(\"instrument\").alias(\"Instrument\"),\n",
    "        pl.when(pl.col(\"status\").is_in([\"Approved\", \"Confirmed\"]))\n",
    "        .then(pl.lit(\"Contracted\"))\n",
    "        .otherwise(pl.lit(\"Hypothetical\"))\n",
    "        .alias(\"Status\"),\n",
    "        pl.col(\"buy_sell\").alias(\"Buy/Sell\"),\n",
    "        pl.col(\"strategy\").alias(\"Strategy\"),\n",
    "        pl.col(\"regionid\").alias(\"Region ID\"),\n",
    "        pl.col(\"group\").alias(\"Group\"),\n",
    "        pl.col(\"volume_mwh\").alias(\"Volume (MWh)\"),\n",
    "        pl.col(\"fixed_earnings\").alias(\"Fixed Earnings\"),\n",
    "        (pl.col(\"fixed_earnings\") / pl.col(\"volume_mwh\")).alias(\"VW Fixed Rate\"),\n",
    "        pl.col(\"floating_earnings\").alias(\"Floating Earnings\"),\n",
    "        (pl.col(\"floating_earnings\") / pl.col(\"volume_mwh\")).alias(\"VW Floating Rate\"),\n",
    "        pl.col(\"twp\").alias(\"TW Floating Price\"),\n",
    "        pl.col(\"total_earnings\").alias(\"Total Earnings\"),\n",
    "    )\n",
    "    .write_csv(\"consolidated_earnings_outlook_v2.csv\")\n",
    ")"
   ]
  }
 ],
 "metadata": {
  "application/vnd.databricks.v1+notebook": {
   "computePreferences": null,
   "dashboards": [],
   "environmentMetadata": {
    "base_environment": "",
    "environment_version": "2"
   },
   "inputWidgetPreferences": null,
   "language": "python",
   "notebookMetadata": {
    "pythonIndentUnit": 4
   },
   "notebookName": "main",
   "widgets": {}
  },
  "kernelspec": {
   "display_name": ".venv",
   "language": "python",
   "name": "python3"
  },
  "language_info": {
   "codemirror_mode": {
    "name": "ipython",
    "version": 3
   },
   "file_extension": ".py",
   "mimetype": "text/x-python",
   "name": "python",
   "nbconvert_exporter": "python",
   "pygments_lexer": "ipython3",
   "version": "3.11.11"
  }
 },
 "nbformat": 4,
 "nbformat_minor": 0
}
